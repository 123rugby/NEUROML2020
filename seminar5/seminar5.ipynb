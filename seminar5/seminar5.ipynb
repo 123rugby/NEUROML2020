{
 "cells": [
  {
   "cell_type": "markdown",
   "metadata": {},
   "source": [
    "# Neuro ML 2020\n",
    "\n",
    "## Seminar 5: Functional connectivity"
   ]
  },
  {
   "cell_type": "code",
   "execution_count": null,
   "metadata": {},
   "outputs": [],
   "source": [
    "%matplotlib inline\n",
    "import matplotlib.pyplot as plt\n",
    "\n",
    "import numpy as np\n",
    "import nilearn\n",
    "import networkx as nx\n",
    "import diagram2vec"
   ]
  },
  {
   "cell_type": "markdown",
   "metadata": {},
   "source": [
    "## Connectivity matrices\n",
    "\n",
    "\n",
    "#### Multivariate time-series\n",
    "- visualization\n",
    "- normalization\n",
    "- trend removal\n",
    "\n",
    "#### Metrics of functional connectivity\n",
    "- statistical (correlation - Pearson, Spearman)\n",
    "- information-theoretic (mutual information)\n",
    "\n",
    "#### Metrics of effective connectivity (show benefits of directionality on model data)\n",
    "- statistical\n",
    "- information-theoretic (entropy transfer, momentary information transfer)\n",
    "- linear models (Granger causality)"
   ]
  },
  {
   "cell_type": "markdown",
   "metadata": {},
   "source": [
    "### Multivariate time-series\n",
    "\n",
    "- visualization\n",
    "- normalization\n",
    "- trend removal"
   ]
  },
  {
   "cell_type": "code",
   "execution_count": null,
   "metadata": {},
   "outputs": [],
   "source": []
  },
  {
   "cell_type": "markdown",
   "metadata": {},
   "source": [
    "### Metrics of functional connectivity\n",
    "\n",
    "- statistical (correlation - Pearson, Spearman)\n",
    "- information-theoretic (mutual information)"
   ]
  },
  {
   "cell_type": "code",
   "execution_count": null,
   "metadata": {},
   "outputs": [],
   "source": []
  },
  {
   "cell_type": "markdown",
   "metadata": {},
   "source": [
    "### Metrics of effective connectivity\n",
    "\n",
    "- statistical\n",
    "- information-theoretic (entropy transfer)\n",
    "- linear models (Granger causality)"
   ]
  },
  {
   "cell_type": "code",
   "execution_count": null,
   "metadata": {},
   "outputs": [],
   "source": []
  },
  {
   "cell_type": "markdown",
   "metadata": {},
   "source": [
    "## Analysis of connectivity matrices\n",
    "\n",
    "#### Methods\n",
    "- graph-theoretic (node degree, centralities, clustering coefficient, modularity)\n",
    "- spectral (eigenvalues of connectivity matrix, Laplacian matrix)\n",
    "- topological (loops, Betti numbers, persistent homology, localization)\n",
    "\n",
    "#### Meta-learning\n",
    "- correlation analysis (show that methods describe different properties)"
   ]
  },
  {
   "cell_type": "markdown",
   "metadata": {},
   "source": [
    "### Graph-theoretic\n",
    "\n",
    "- node degree, centralities, clustering coefficient, modularity\n",
    "- simplicial network science*"
   ]
  },
  {
   "cell_type": "code",
   "execution_count": null,
   "metadata": {},
   "outputs": [],
   "source": [
    "import networkx as nx"
   ]
  },
  {
   "cell_type": "markdown",
   "metadata": {},
   "source": [
    "### Spectral\n",
    "\n",
    "Eigenvalues of\n",
    "- connectivity matrix\n",
    "- Laplacian matrix\n",
    "- higher-order Laplacian*"
   ]
  },
  {
   "cell_type": "code",
   "execution_count": null,
   "metadata": {},
   "outputs": [],
   "source": []
  },
  {
   "cell_type": "markdown",
   "metadata": {},
   "source": [
    "### Topological\n",
    "\n",
    "Loops, Betti numbers, persistent homology, localization"
   ]
  },
  {
   "cell_type": "code",
   "execution_count": null,
   "metadata": {},
   "outputs": [],
   "source": [
    "import ripser\n",
    "import diagram2vec"
   ]
  },
  {
   "cell_type": "markdown",
   "metadata": {},
   "source": [
    "### Correlation analysis"
   ]
  },
  {
   "cell_type": "code",
   "execution_count": null,
   "metadata": {},
   "outputs": [],
   "source": []
  }
 ],
 "metadata": {
  "kernelspec": {
   "display_name": "Python 3",
   "language": "python",
   "name": "python3"
  },
  "language_info": {
   "codemirror_mode": {
    "name": "ipython",
    "version": 3
   },
   "file_extension": ".py",
   "mimetype": "text/x-python",
   "name": "python",
   "nbconvert_exporter": "python",
   "pygments_lexer": "ipython3",
   "version": "3.7.2"
  }
 },
 "nbformat": 4,
 "nbformat_minor": 2
}
